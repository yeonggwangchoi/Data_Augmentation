{
 "cells": [
  {
   "cell_type": "code",
   "execution_count": 5,
   "metadata": {},
   "outputs": [],
   "source": [
    "import cv2\n",
    "import os\n",
    "import matplotlib.pyplot as plt"
   ]
  },
  {
   "attachments": {},
   "cell_type": "markdown",
   "metadata": {},
   "source": [
    "file_path = '파일 경로'\n",
    "file_names = os.listdir(file_path)  \n",
    "for file_name in file_names:  \n",
    "    img = cv2.imread(os.path.join(file_path,file_name), cv2.IMREAD_COLOR)  \n",
    "    img = cv2.resize(img,(이미지 사이즈 튜플))  \n",
    "    저장 위치를 변경하려면  \n",
    "    cv2.imwrite(이 부분 수정,img)  "
   ]
  },
  {
   "cell_type": "code",
   "execution_count": 10,
   "metadata": {},
   "outputs": [],
   "source": [
    "file_path = './train/images/'\n",
    "file_names = os.listdir(file_path)\n",
    "for file_name in file_names:\n",
    "    img = cv2.imread(os.path.join(file_path,file_name), cv2.IMREAD_COLOR)\n",
    "    img = cv2.resize(img,(640,640))\n",
    "    cv2.imwrite(os.path.join(file_path,file_name),img)"
   ]
  }
 ],
 "metadata": {
  "kernelspec": {
   "display_name": "torch_env",
   "language": "python",
   "name": "python3"
  },
  "language_info": {
   "codemirror_mode": {
    "name": "ipython",
    "version": 3
   },
   "file_extension": ".py",
   "mimetype": "text/x-python",
   "name": "python",
   "nbconvert_exporter": "python",
   "pygments_lexer": "ipython3",
   "version": "3.9.16"
  },
  "orig_nbformat": 4
 },
 "nbformat": 4,
 "nbformat_minor": 2
}
