{
 "cells": [
  {
   "attachments": {},
   "cell_type": "markdown",
   "metadata": {},
   "source": [
    "Augmentation\n",
    "==="
   ]
  },
  {
   "cell_type": "code",
   "execution_count": 2,
   "metadata": {},
   "outputs": [],
   "source": [
    "import os\n",
    "import cv2\n",
    "import torch\n",
    "import torchvision\n",
    "import matplotlib.pyplot as plt\n",
    "from torchvision.utils import save_image"
   ]
  },
  {
   "attachments": {},
   "cell_type": "markdown",
   "metadata": {},
   "source": [
    "랜덤크롭"
   ]
  },
  {
   "cell_type": "code",
   "execution_count": 36,
   "metadata": {},
   "outputs": [],
   "source": [
    "file_path = './train/images/'\n",
    "file_names = os.listdir(file_path)\n",
    "for file_name in file_names:\n",
    "    img = cv2.imread(os.path.join(file_path,file_name), cv2.IMREAD_COLOR)\n",
    "    img = cv2.cvtColor(img, cv2.COLOR_BGR2RGB)\n",
    "    \n",
    "    transforms = torchvision.transforms.Compose([\n",
    "        torchvision.transforms.ToTensor(),\n",
    "        torchvision.transforms.RandomResizedCrop(640,(0.2,1),(0.75, 1.333)),\n",
    "    ])\n",
    "    img = transforms(img)\n",
    "    save_image(img, os.path.join('./add_train/',file_name))\n",
    "    "
   ]
  },
  {
   "attachments": {},
   "cell_type": "markdown",
   "metadata": {},
   "source": [
    "상하반전"
   ]
  },
  {
   "cell_type": "code",
   "execution_count": 3,
   "metadata": {},
   "outputs": [],
   "source": [
    "file_path = './train/images/'\n",
    "file_names = os.listdir(file_path)\n",
    "i=1\n",
    "for file_name in file_names:\n",
    "    img = cv2.imread(os.path.join(file_path,file_name), cv2.IMREAD_COLOR)\n",
    "    img = cv2.flip(img, 0)\n",
    "    cv2.imwrite(os.path.join('./add_train/'+str(i)+'.jpg'),img)\n",
    "    i += 1"
   ]
  },
  {
   "attachments": {},
   "cell_type": "markdown",
   "metadata": {},
   "source": [
    "좌우반전"
   ]
  },
  {
   "cell_type": "code",
   "execution_count": null,
   "metadata": {},
   "outputs": [],
   "source": [
    "file_path = './train/images/'\n",
    "file_names = os.listdir(file_path)\n",
    "i=1\n",
    "for file_name in file_names:\n",
    "    img = cv2.imread(os.path.join(file_path,file_name), cv2.IMREAD_COLOR)\n",
    "    img = cv2.flip(img, 1)\n",
    "    cv2.imwrite(os.path.join('./add_train/'+str(i)+'.jpg'),img)\n",
    "    i += 1"
   ]
  }
 ],
 "metadata": {
  "kernelspec": {
   "display_name": "torch_env",
   "language": "python",
   "name": "python3"
  },
  "language_info": {
   "name": "python",
   "version": "3.9.16"
  },
  "orig_nbformat": 4
 },
 "nbformat": 4,
 "nbformat_minor": 2
}
